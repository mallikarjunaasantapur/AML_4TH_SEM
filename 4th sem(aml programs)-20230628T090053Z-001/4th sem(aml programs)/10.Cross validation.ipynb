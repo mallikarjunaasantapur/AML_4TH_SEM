{
 "cells": [
  {
   "cell_type": "code",
   "execution_count": 2,
   "id": "8e135b9b",
   "metadata": {},
   "outputs": [],
   "source": [
    "from sklearn.model_selection import cross_val_score\n",
    "from sklearn.tree import DecisionTreeClassifier\n",
    "from sklearn.datasets import load_iris,load_diabetes"
   ]
  },
  {
   "cell_type": "markdown",
   "id": "41611107",
   "metadata": {},
   "source": [
    "# Cross validation for Iris Data"
   ]
  },
  {
   "cell_type": "code",
   "execution_count": 3,
   "id": "db1d5695",
   "metadata": {},
   "outputs": [],
   "source": [
    "iris=load_iris()\n",
    "X=iris.data\n",
    "y=iris.target"
   ]
  },
  {
   "cell_type": "code",
   "execution_count": 4,
   "id": "17a9c3ac",
   "metadata": {},
   "outputs": [],
   "source": [
    "clf=DecisionTreeClassifier()"
   ]
  },
  {
   "cell_type": "code",
   "execution_count": 6,
   "id": "4e4320b9",
   "metadata": {},
   "outputs": [
    {
     "name": "stdout",
     "output_type": "stream",
     "text": [
      "Mean Accuracy: 0.9533333333333334\n"
     ]
    }
   ],
   "source": [
    "#Perform 5-fold cross validation and compute the mean accuracy\n",
    "scores=cross_val_score(clf,X,y)\n",
    "mean_accuracy=scores.mean()\n",
    "print(\"Mean Accuracy:\",mean_accuracy)"
   ]
  },
  {
   "cell_type": "markdown",
   "id": "b12e6ea6",
   "metadata": {},
   "source": [
    "# Cross Validation for Diabetes Data"
   ]
  },
  {
   "cell_type": "code",
   "execution_count": 7,
   "id": "8ed0be36",
   "metadata": {},
   "outputs": [],
   "source": [
    "diabete=load_diabetes()\n",
    "X=diabete.data\n",
    "y=diabete.target"
   ]
  },
  {
   "cell_type": "code",
   "execution_count": 8,
   "id": "b76ae85d",
   "metadata": {},
   "outputs": [],
   "source": [
    "clf=DecisionTreeClassifier()"
   ]
  },
  {
   "cell_type": "code",
   "execution_count": 9,
   "id": "3cb4e09d",
   "metadata": {},
   "outputs": [
    {
     "name": "stdout",
     "output_type": "stream",
     "text": [
      "Mean Accuracy: 0.00449438202247191\n"
     ]
    },
    {
     "name": "stderr",
     "output_type": "stream",
     "text": [
      "/home/student/.conda/envs/Mallikarjuna/lib/python3.9/site-packages/sklearn/model_selection/_split.py:700: UserWarning: The least populated class in y has only 1 members, which is less than n_splits=5.\n",
      "  warnings.warn(\n"
     ]
    }
   ],
   "source": [
    "#Perform 5-fold cross validation and compute the mean accuracy\n",
    "scores=cross_val_score(clf,X,y)\n",
    "mean_accuracy=scores.mean()\n",
    "print(\"Mean Accuracy:\",mean_accuracy)"
   ]
  },
  {
   "cell_type": "code",
   "execution_count": null,
   "id": "54feaceb",
   "metadata": {},
   "outputs": [],
   "source": []
  }
 ],
 "metadata": {
  "kernelspec": {
   "display_name": "Python 3 (ipykernel)",
   "language": "python",
   "name": "python3"
  },
  "language_info": {
   "codemirror_mode": {
    "name": "ipython",
    "version": 3
   },
   "file_extension": ".py",
   "mimetype": "text/x-python",
   "name": "python",
   "nbconvert_exporter": "python",
   "pygments_lexer": "ipython3",
   "version": "3.9.16"
  }
 },
 "nbformat": 4,
 "nbformat_minor": 5
}
