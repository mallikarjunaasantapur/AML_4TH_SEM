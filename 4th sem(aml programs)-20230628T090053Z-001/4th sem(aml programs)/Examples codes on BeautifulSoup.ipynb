{
 "cells": [
  {
   "cell_type": "code",
   "execution_count": 1,
   "id": "617dc753",
   "metadata": {},
   "outputs": [],
   "source": [
    "from bs4 import BeautifulSoup\n",
    "html_content=\"\"\"<html>\n",
    "<head>\n",
    "<title>Example</title>\n",
    "</head><body>\n",
    "<p class=\"paragraph\">This is an Paragraph.</p>\n",
    "<p class=\"paragraph\">This is an Paragraph 2.</p>\n",
    "<ul><li>Item 1</li>\n",
    "<li>Item 2</li>\n",
    "</ul>\n",
    "</body>\n",
    "</html>\"\"\"\n"
   ]
  },
  {
   "cell_type": "code",
   "execution_count": 2,
   "id": "900d8ad7",
   "metadata": {},
   "outputs": [],
   "source": [
    "#creating an instance of BeautifulSoup\n",
    "soup=BeautifulSoup(html_content,'html.parser')"
   ]
  },
  {
   "cell_type": "code",
   "execution_count": 4,
   "id": "cc21ae62",
   "metadata": {},
   "outputs": [
    {
     "data": {
      "text/plain": [
       "'Example'"
      ]
     },
     "execution_count": 4,
     "metadata": {},
     "output_type": "execute_result"
    }
   ],
   "source": [
    "#to access the title\n",
    "title=soup.title.text\n",
    "title"
   ]
  },
  {
   "cell_type": "code",
   "execution_count": 5,
   "id": "bd6bdaa4",
   "metadata": {},
   "outputs": [
    {
     "data": {
      "text/plain": [
       "'This is an Paragraph.'"
      ]
     },
     "execution_count": 5,
     "metadata": {},
     "output_type": "execute_result"
    }
   ],
   "source": [
    "#to access the paragraph\n",
    "para=soup.p.text\n",
    "para"
   ]
  },
  {
   "cell_type": "markdown",
   "id": "3156d1a0",
   "metadata": {},
   "source": [
    "# Navigation"
   ]
  },
  {
   "cell_type": "code",
   "execution_count": 6,
   "id": "069c4cce",
   "metadata": {},
   "outputs": [
    {
     "data": {
      "text/plain": [
       "<p class=\"paragraph\">This is an Paragraph.</p>"
      ]
     },
     "execution_count": 6,
     "metadata": {},
     "output_type": "execute_result"
    }
   ],
   "source": [
    "#tag navigation\n",
    "para=soup.find('p')\n",
    "para"
   ]
  },
  {
   "cell_type": "code",
   "execution_count": 10,
   "id": "045de18e",
   "metadata": {},
   "outputs": [
    {
     "data": {
      "text/plain": [
       "[<p class=\"paragraph\">This is an Paragraph.</p>,\n",
       " <p class=\"paragraph\">This is an Paragraph 2.</p>]"
      ]
     },
     "execution_count": 10,
     "metadata": {},
     "output_type": "execute_result"
    }
   ],
   "source": [
    "para2=soup.find_all('p')\n",
    "para2"
   ]
  },
  {
   "cell_type": "code",
   "execution_count": 11,
   "id": "6c27ca8e",
   "metadata": {},
   "outputs": [
    {
     "name": "stdout",
     "output_type": "stream",
     "text": [
      "This is an Paragraph.\n",
      "This is an Paragraph 2.\n"
     ]
    }
   ],
   "source": [
    "para2=soup.find_all('p')\n",
    "for p in para2:\n",
    "    print(p.text)"
   ]
  },
  {
   "cell_type": "markdown",
   "id": "bad6a893",
   "metadata": {},
   "source": [
    "# Parent and Siblings Navigation"
   ]
  },
  {
   "cell_type": "code",
   "execution_count": 12,
   "id": "a7dfc0d8",
   "metadata": {},
   "outputs": [
    {
     "ename": "ModuleNotFoundError",
     "evalue": "No module named 'bs2'",
     "output_type": "error",
     "traceback": [
      "\u001b[0;31m---------------------------------------------------------------------------\u001b[0m",
      "\u001b[0;31mModuleNotFoundError\u001b[0m                       Traceback (most recent call last)",
      "Cell \u001b[0;32mIn[12], line 1\u001b[0m\n\u001b[0;32m----> 1\u001b[0m \u001b[38;5;28;01mfrom\u001b[39;00m \u001b[38;5;21;01mbs2\u001b[39;00m \u001b[38;5;28;01mimport\u001b[39;00m BeautifulSoup\n",
      "\u001b[0;31mModuleNotFoundError\u001b[0m: No module named 'bs2'"
     ]
    }
   ],
   "source": [
    "from bs2 import BeautifulSoup"
   ]
  },
  {
   "cell_type": "code",
   "execution_count": 13,
   "id": "ff05de9a",
   "metadata": {},
   "outputs": [],
   "source": [
    "html_doc=\"\"\"\n",
    "<html>\n",
    "<body>\n",
    "<div class='my_class'>\n",
    "<h1>Welcome to BeautifulSoup</h1>\n",
    "<p>This is an example paragraph.</p>\n",
    "<ul>\n",
    "<li>Item 1</li>\n",
    "<li>Item 2</li>\n",
    "<li>Item 3</li>\n",
    "</ul>\n",
    "</div>\n",
    "</body>\n",
    "</html>\n",
    "\"\"\""
   ]
  },
  {
   "cell_type": "code",
   "execution_count": 14,
   "id": "213a6536",
   "metadata": {},
   "outputs": [],
   "source": [
    "soup=BeautifulSoup(html_doc,'html.parser')"
   ]
  },
  {
   "cell_type": "code",
   "execution_count": 16,
   "id": "ee257617",
   "metadata": {},
   "outputs": [
    {
     "name": "stdout",
     "output_type": "stream",
     "text": [
      "Parent of <h1>:\n",
      "<div class=\"my_class\">\n",
      "<h1>Welcome to BeautifulSoup</h1>\n",
      "<p>This is an example paragraph.</p>\n",
      "<ul>\n",
      "<li>Item 1</li>\n",
      "<li>Item 2</li>\n",
      "<li>Item 3</li>\n",
      "</ul>\n",
      "</div>\n"
     ]
    }
   ],
   "source": [
    "#Accessing Parent Element of <h1>\n",
    "h1=soup.h1\n",
    "parent_div=h1.parent\n",
    "print(\"Parent of <h1>:\")\n",
    "print(parent_div)"
   ]
  },
  {
   "cell_type": "code",
   "execution_count": 18,
   "id": "247ff2da",
   "metadata": {},
   "outputs": [
    {
     "name": "stdout",
     "output_type": "stream",
     "text": [
      "Previous sibling element of <p>\n",
      "[<h1>Welcome to BeautifulSoup</h1>]\n"
     ]
    }
   ],
   "source": [
    "#Accessing previous siblings of <p>\n",
    "paragraph=soup.p\n",
    "previous_siblings=paragraph.find_previous_siblings()\n",
    "print(\"Previous sibling element of <p>\")\n",
    "print(previous_siblings)"
   ]
  },
  {
   "cell_type": "code",
   "execution_count": 19,
   "id": "cb9179e7",
   "metadata": {},
   "outputs": [
    {
     "name": "stdout",
     "output_type": "stream",
     "text": [
      "Previous sibling element of <ul>\n",
      "[]\n"
     ]
    }
   ],
   "source": [
    "#Accessing next siblings of <ul>\n",
    "ul=soup.ul\n",
    "next_siblings=ul.find_next_siblings()\n",
    "print(\"Previous sibling element of <ul>\")\n",
    "print(next_siblings)"
   ]
  },
  {
   "cell_type": "markdown",
   "id": "3b2c6b28",
   "metadata": {},
   "source": [
    "# Child Navigation"
   ]
  },
  {
   "cell_type": "code",
   "execution_count": 20,
   "id": "46e3c919",
   "metadata": {},
   "outputs": [
    {
     "name": "stdout",
     "output_type": "stream",
     "text": [
      "Child elements of <div>:\n",
      "\n",
      "\n",
      "<h1>Welcome to BeautifulSoup</h1>\n",
      "\n",
      "\n",
      "<p>This is an example paragraph.</p>\n",
      "\n",
      "\n",
      "<ul>\n",
      "<li>Item 1</li>\n",
      "<li>Item 2</li>\n",
      "<li>Item 3</li>\n",
      "</ul>\n",
      "\n",
      "\n"
     ]
    }
   ],
   "source": [
    "#Accessing child elements\n",
    "div=soup.div\n",
    "children=div.children\n",
    "print('Child elements of <div>:')\n",
    "for child in children:\n",
    "    print(child)"
   ]
  },
  {
   "cell_type": "code",
   "execution_count": 21,
   "id": "151ebff0",
   "metadata": {},
   "outputs": [
    {
     "data": {
      "text/plain": [
       "[<div class=\"my_class\">\n",
       " <h1>Welcome to BeautifulSoup</h1>\n",
       " <p>This is an example paragraph.</p>\n",
       " <ul>\n",
       " <li>Item 1</li>\n",
       " <li>Item 2</li>\n",
       " <li>Item 3</li>\n",
       " </ul>\n",
       " </div>]"
      ]
     },
     "execution_count": 21,
     "metadata": {},
     "output_type": "execute_result"
    }
   ],
   "source": [
    "#Searching bt css and class attributes\n",
    "elements=soup.find_all('div',class_='my_class')\n",
    "elements"
   ]
  }
 ],
 "metadata": {
  "kernelspec": {
   "display_name": "Python 3 (ipykernel)",
   "language": "python",
   "name": "python3"
  },
  "language_info": {
   "codemirror_mode": {
    "name": "ipython",
    "version": 3
   },
   "file_extension": ".py",
   "mimetype": "text/x-python",
   "name": "python",
   "nbconvert_exporter": "python",
   "pygments_lexer": "ipython3",
   "version": "3.9.16"
  }
 },
 "nbformat": 4,
 "nbformat_minor": 5
}
